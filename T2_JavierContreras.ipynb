{
 "cells": [
  {
   "cell_type": "markdown",
   "metadata": {},
   "source": [
    "# What ara MLOps and Why Does it Matter?"
   ]
  },
  {
   "cell_type": "markdown",
   "metadata": {},
   "source": [
    "Los sistemas ágiles ayudaron a poner en funcionamineto el ciclo de vide de los productos, abrinedo el camino para innovar y automatizar los procesos de su creación. DevOps optimizó aún más el ciclo de vida de producción introduciendo un nuevo elemneto, el big data.\n",
    "\n",
    "Con lo que ahora sabemos las empresas recurren con mayor y más frecuencia a los conocimientos de aprendizaje automático.\n",
    "\n",
    "**¿Qué es MOOps?**\n",
    "- Comunicación de los ciencitíficos de datos y el equipo de operaciones o producción. Trabajo colaborativo que busca eliminar desperdicio y automatizar tanto como sea posible y así poder obtener más conocimientos con el aprendizaje automático.\n",
    "\n",
    "**¿Por qué mi organización debería adoptar MLOps?**\n",
    "\n",
    "- Basicamente los científicos de datos van a encontrar respuestas, que ayuden a la mejora de lo que se está buscando poniendo en prácica los conocimientos obtenidos.\n",
    "\n",
    "- MLOps es similar a DevOps, uno mejora los productos, mientras que el otro genera conocimientos.\n",
    "\n",
    "**¿Qué problemas resolverá MLOps?**\n",
    "\n",
    "- Con los conocimientos obtenidos e información rica, útil pueden regularse operaciones y generarse modelos nuevos.\n",
    "\n",
    "Hay que tener cierto cuidado a la hora de etsar implementando MLOps, ya que existen regularizaciones a la hora de tratar con los datos, por lo que es importante estar en comunicación con los equipos de trabajo para que se sepa abordar el tema de los datos y así poder obtener esos conocimientos y el aprendizaje automático sea fluida y reveladora."
   ]
  },
  {
   "cell_type": "markdown",
   "metadata": {},
   "source": []
  },
  {
   "cell_type": "markdown",
   "metadata": {},
   "source": [
    "# What is MLOps"
   ]
  },
  {
   "cell_type": "markdown",
   "metadata": {},
   "source": [
    "Relata la tarea sobre predecir el precio de Apple dentro de los próximos 2 años donde un trabajador falla, el jefe se enoja y designa esta tarea a otra persona, sin embargo, todo el primer trabajo lo tenía el primero con lo que el segundo tenía que trabajar desde el principio, entonces entra MLOps. \n",
    "\n",
    " \n",
    "\n",
    "Entonces... \n",
    "\n",
    "**Why MLOps?** \n",
    "\n",
    "Su principal meta es hacer que los involucrados en los procesos o proyecto de ML sean lo más agradables posibles. De forma que la comunicación entre los involucrados sea clara teniendo un reporte sobre lo que realiza cada uno y en qué momento. \n",
    "\n",
    " \n",
    "\n",
    " \n",
    "\n",
    "_*Hacer un seguimiento de todo*_ \n",
    "\n",
    "Datos \n",
    "\n",
    "    - Realizar seguimiento de los datos utilizados, ya que estos cambian periódicamente. \n",
    "\n",
    "    - Control de versiones (Git, otras) \n",
    "\n",
    "Experimentos \n",
    "\n",
    "    - Experimentar y documentar lo que se vaya haciendo, los modelos y los resultados obtenidos para evitar que estos se repitan. \n",
    "\n",
    " \n",
    "\n",
    "ML es un microservicio y con ayuda de Docker es de gran ayuda. \n",
    "\n",
    " \n",
    "\n",
    "- Integración continua \n",
    "\n",
    "- Despliegue continuo \n",
    "\n",
    "- Ejecución en múltiples microservicios \n",
    "\n",
    "- Supervisión \n",
    "\n",
    "- Reentrenamiento \n",
    "\n",
    "Es un campo nuevo y no hay como los mejores pasos para la realización de los procesos. "
   ]
  },
  {
   "cell_type": "markdown",
   "metadata": {},
   "source": [
    "# A Gentle Introduction to MLOps\n"
   ]
  },
  {
   "cell_type": "markdown",
   "metadata": {},
   "source": [
    "Ciclo de vida del proyecto ML (3) \n",
    "\n",
    "![](https://miro.medium.com/v2/resize:fit:1100/format:webp/1*3KN_-nb0DXEEvE0jOLMV3w.png) \n",
    "\n",
    " \n",
    "\n",
    "- Scoping: Definir el proyecto y si este requiere de Ml \n",
    "\n",
    "- Ingeniería de datos: Los pasos necesarios para la recopilación, limpieza, ordenamiento e interpretación. \n",
    "\n",
    "- Modelado: Creación del modelo de ML  \n",
    "\n",
    "- Implementación: empaquetación del modelo, implementándolo en la nube o en dispositivos según lo necesario. \n",
    "\n",
    "- Monitoreo: la supervisión de la infraestructura de la implementación y el rendimiento del ML. \n",
    "\n",
    " \n",
    "\n",
    " \n",
    "\n",
    "Infraestructura de ML(3) \n",
    "\n",
    "![](https://miro.medium.com/v2/resize:fit:1100/format:webp/1*5bzbexO-yyuLgrqlXFdJ_g.png) \n",
    "\n",
    " \n",
    "\n",
    "MLOps Nivel-0(3) \n",
    "\n",
    "![](https://miro.medium.com/v2/resize:fit:1100/format:webp/1*6Hd_Bpr209c5L14TE4iH6w.png) \n",
    "\n",
    " \n",
    "\n",
    "MLOps Nivel-1 (3) \n",
    "\n",
    "![](https://miro.medium.com/v2/resize:fit:1100/format:webp/1*XgF7TCxVVQDZCBCZ7ZXdvQ.png) \n",
    "\n",
    " \n",
    "\n",
    "MLOps Nivel-2 (3) \n",
    "\n",
    "![](https://miro.medium.com/v2/resize:fit:3982/format:webp/1*t0Dqrwaw_wOMacqyx0wfMQ.png) \n",
    "\n",
    " \n",
    "\n",
    " \n",
    "\n",
    "Los modelos se reentrenan ya que hay una caída en el rendimiento o hay nuevos datos disponibles, mantenerlo actualizado ayuda a ver los cambios que estos podrían tener del mundo real se ven reflejados en el modelo. "
   ]
  },
  {
   "cell_type": "markdown",
   "metadata": {},
   "source": [
    "# Why MLOps is Vital to Your Development Team"
   ]
  },
  {
   "cell_type": "markdown",
   "metadata": {},
   "source": [
    "MLOps es DevOps en el área de ciencia de datos y aprendizaje automático, acelerando procesos. \n",
    "\n",
    " \n",
    "\n",
    "Tradicional Software(4)\n",
    "\n",
    "code ---> Release \n",
    "\n",
    " \n",
    "\n",
    "Machine Learning \n",
    "\n",
    "Code | Data |  Parámetros  |-----> Model -->Release \n",
    "\n",
    "![](https://valohai.com/blog/why-mlops-is-vital-to-your-development-team/software-ml-difference.png) \n",
    "\n",
    " \n",
    "\n",
    "Por lo que el desarrollo de ML a producción sea más complicado ya que hay que probar y versionar ambos. \n",
    "\n",
    " \n",
    "\n",
    "Beneficios \n",
    "\n",
    "- Evita cuellos de botellas \n",
    "\n",
    "- Previene la fatiga \n",
    "\n",
    "- Implementa un estricto control de versiones \n",
    "\n",
    "![](https://valohai.com/blog/why-mlops-is-vital-to-your-development-team/software-ml-versioning.png) "
   ]
  },
  {
   "cell_type": "markdown",
   "metadata": {},
   "source": [
    "### Bibliografía\n",
    "(1) ODSC-Open Data Science (may 2019), Medium, What ara MLOps and Why does it matter?, recuperado de: https://odsc.medium.com/what-are-mlops-and-why-does-it-matter-8cff060d4067 \n",
    "\n",
    "(2) shafu (dec 2019), Medium, What is MLOps, recuperado de: https://medium.com/@selfouly/mlops-done-right-47cec1dbfc8d\n",
    "\n",
    "(3) Nayak (sep 2021), Medium, A gentle introduction a MLOps, recuperado de: https://towardsdatascience.com/a-gentle-introduction-to-mlops-7d64a3e890ff\n",
    "\n",
    "(4) Skogstrom (), Valohaia, Why MLOps is Vital to Your Development Team, recuperado de: https://valohai.com/blog/why-mlops-is-vital-to-your-development-team/"
   ]
  },
  {
   "cell_type": "markdown",
   "metadata": {},
   "source": []
  }
 ],
 "metadata": {
  "language_info": {
   "name": "python"
  }
 },
 "nbformat": 4,
 "nbformat_minor": 2
}
